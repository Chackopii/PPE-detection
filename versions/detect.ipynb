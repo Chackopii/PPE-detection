{
 "cells": [
  {
   "cell_type": "code",
   "execution_count": 2,
   "id": "0d859014-967e-4bcb-8084-3d78c37d06be",
   "metadata": {},
   "outputs": [],
   "source": [
    "from ultralytics import YOLO\n",
    "import streamlit as st\n",
    "from PIL import Image, ImageDraw\n",
    "import torch\n",
    "import cv2\n",
    "from io import BytesIO"
   ]
  },
  {
   "cell_type": "code",
   "execution_count": 3,
   "id": "8ee35fed-2069-4be4-afd4-5c9dc2d83a32",
   "metadata": {},
   "outputs": [
    {
     "data": {
      "text/plain": [
       "'2.2.1+cu121'"
      ]
     },
     "execution_count": 3,
     "metadata": {},
     "output_type": "execute_result"
    }
   ],
   "source": [
    "torch.__version__"
   ]
  },
  {
   "cell_type": "code",
   "execution_count": null,
   "id": "d1d6b20a-d7bf-4b2a-b503-8f867a751a7e",
   "metadata": {},
   "outputs": [],
   "source": [
    "# Function to perform object detection on an image\n",
    "def detect_objects_image(image):\n",
    "    # Load YOLOv5 model\n",
    "    model = YOLO('model/best.pt')\n",
    "\n",
    "    # Perform object detection\n",
    "    results = model(image)\n",
    "\n",
    "    return results"
   ]
  },
  {
   "cell_type": "code",
   "execution_count": null,
   "id": "492799ca-3acb-4c76-ac79-2879e6fdb967",
   "metadata": {},
   "outputs": [],
   "source": [
    "# Function to perform object detection on a video\n",
    "def detect_objects_video(video):\n",
    "    # Load YOLOv8 model\n",
    "    model = YOLO('model/best.pt')\n",
    "\n",
    "    # Open video capture\n",
    "    cap = cv2.VideoCapture(video)\n",
    "    frame_width = int(cap.get(3))\n",
    "    frame_height = int(cap.get(4))\n",
    "\n",
    "    # Define the codec and create VideoWriter object\n",
    "    out = cv2.VideoWriter('output.mp4', cv2.VideoWriter_fourcc(*'mp4v'), 30, (frame_width, frame_height))\n",
    "\n",
    "    while cap.isOpened():\n",
    "        ret, frame = cap.read()\n",
    "        if not ret:\n",
    "            break\n",
    "\n",
    "        # Perform object detection on each frame\n",
    "        results = model(frame)\n",
    "\n",
    "        # Draw bounding boxes on the frame\n",
    "        frame = results.render()[0]\n",
    "\n",
    "        # Write the frame into the file 'output.avi'\n",
    "        out.write(frame)\n",
    "\n",
    "    # Release everything if job is finished\n",
    "    cap.release()\n",
    "    out.release()\n",
    "    cv2.destroyAllWindows()\n"
   ]
  },
  {
   "cell_type": "code",
   "execution_count": null,
   "id": "c2925b83-f227-4530-89b2-523a6260f665",
   "metadata": {},
   "outputs": [],
   "source": [
    "def main():\n",
    "    st.title(\"PPE Object Detection\")\n",
    "\n",
    "    # Upload image or video\n",
    "    uploaded_file = st.file_uploader(\"Choose an image or video...\", type=[\"jpg\", \"jpeg\", \"png\", \"mp4\"])\n",
    "\n",
    "    if uploaded_file is not None:\n",
    "        file_extension = uploaded_file.name.split(\".\")[-1]\n",
    "\n",
    "        if file_extension in [\"jpg\", \"jpeg\", \"png\"]:\n",
    "            # Display uploaded image\n",
    "            image = Image.open(uploaded_file)\n",
    "            st.image(image, caption=\"Uploaded Image\", use_column_width=True)\n",
    "\n",
    "            # Perform object detection on the image\n",
    "            results = detect_objects_image(image)\n",
    "\n",
    "            # Display object detection results\n",
    "            st.subheader(\"Object Detection Results:\")\n",
    "            for detection in results.xyxy[0]:\n",
    "                label = detection[5]\n",
    "                confidence = detection[4]\n",
    "                st.write(f\"- Label: {label}, Confidence: {confidence:.2f}\")\n",
    "\n",
    "        elif file_extension == \"mp4\":\n",
    "            # Display uploaded video\n",
    "            video_bytes = uploaded_file.read()\n",
    "            st.video(video_bytes)\n",
    "\n",
    "            # Save video locally\n",
    "            with open(\"input_video.mp4\", \"wb\") as f:\n",
    "                f.write(video_bytes)\n",
    "\n",
    "            # Perform object detection on the video\n",
    "            detect_objects_video(\"input_video.mp4\")\n",
    "\n",
    "            # Display a link to download the processed video\n",
    "            st.markdown(\"[Download Processed Video](output.avi)\")\n",
    "\n",
    "if _name_ == \"_main_\":\n",
    "    main()"
   ]
  }
 ],
 "metadata": {
  "kernelspec": {
   "display_name": "Python 3 (ipykernel)",
   "language": "python",
   "name": "python3"
  },
  "language_info": {
   "codemirror_mode": {
    "name": "ipython",
    "version": 3
   },
   "file_extension": ".py",
   "mimetype": "text/x-python",
   "name": "python",
   "nbconvert_exporter": "python",
   "pygments_lexer": "ipython3",
   "version": "3.9.0"
  }
 },
 "nbformat": 4,
 "nbformat_minor": 5
}
